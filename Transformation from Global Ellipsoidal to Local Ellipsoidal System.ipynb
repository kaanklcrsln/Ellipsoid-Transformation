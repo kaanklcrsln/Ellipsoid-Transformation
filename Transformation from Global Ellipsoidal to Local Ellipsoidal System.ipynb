{
 "cells": [
  {
   "cell_type": "code",
   "execution_count": 6,
   "id": "d10824f2",
   "metadata": {},
   "outputs": [
    {
     "name": "stdout",
     "output_type": "stream",
     "text": [
      "Azimuth: nan degrees\n",
      "Zenith: nan degrees\n",
      "Slant Range: 6928203.230275509 meters\n",
      "This function made by Kaan Kılıçarslan\n"
     ]
    },
    {
     "name": "stderr",
     "output_type": "stream",
     "text": [
      "C:\\Users\\ASUS\\AppData\\Local\\Temp\\ipykernel_18080\\2013577025.py:9: RuntimeWarning: invalid value encountered in sqrt\n",
      "  p = np.sqrt(xyz[0]**2 + xyz[1]**2)\n"
     ]
    }
   ],
   "source": [
    "import numpy as np\n",
    "\n",
    "def cartesian_to_geographic(xyz):\n",
    "\n",
    "    a = 6378137.0  \n",
    "    f = 1 / 298.257223563 \n",
    "    e2 = 2 * f - f**2\n",
    "    lon = np.arctan2(xyz[1], xyz[0])\n",
    "    p = np.sqrt(xyz[0]**2 + xyz[1]**2)\n",
    "    lat = np.arctan2(xyz[2], p * (1 - e2))\n",
    "    N = a / np.sqrt(1 - e2 * np.sin(lat)**2)\n",
    "    height = p / np.cos(lat) - N\n",
    "    lat = np.degrees(lat)\n",
    "    lon = np.degrees(lon)\n",
    "    return np.array([lat, lon, height])\n",
    "\n",
    "def global_to_local(target_point, observation_point):\n",
    "\n",
    "    observation_blh = cartesian_to_geographic(observation_point)\n",
    "    lat_obs, lon_obs, _ = observation_blh\n",
    "    transformation_matrix = np.array([\n",
    "        [-np.sin(lon_obs), np.cos(lon_obs), 0],\n",
    "        [-np.sin(lat_obs) * np.cos(lon_obs), -np.sin(lat_obs) * np.sin(lon_obs), np.cos(lat_obs)],\n",
    "        [np.cos(lat_obs) * np.cos(lon_obs), np.cos(lat_obs) * np.sin(lon_obs), np.sin(lat_obs)]\n",
    "    ])\n",
    "    relative_position_local = np.dot(transformation_matrix, (target_point - observation_point))\n",
    "    azimuth = np.arctan2(relative_position_local[1], relative_position_local[0]) * (180.0 / np.pi)\n",
    "    azimuth = (azimuth + 360.0) % 360.0\n",
    "    zenith = np.arctan2(relative_position_local[2], np.sqrt(relative_position_local[0]**2 + relative_position_local[1]**2)) * (180.0 / np.pi)\n",
    "    slant_range = np.linalg.norm(target_point - observation_point)\n",
    "    return azimuth, zenith, slant_range\n",
    "\n",
    "target_point = np.array([1000000, 2000000, 3000000])  \n",
    "observation_point = np.array([5000000, 6000000, 7000000])  \n",
    "azimuth, zenith, slant_range = global_to_local(target_point, observation_point)\n",
    "print(\"Azimuth:\", azimuth, \"degrees\")\n",
    "print(\"Zenith:\", zenith, \"degrees\")\n",
    "print(\"Slant Range:\", slant_range, \"meters\")\n",
    "print(\"This function made by Kaan Kılıçarslan\")"
   ]
  }
 ],
 "metadata": {
  "kernelspec": {
   "display_name": "Python 3 (ipykernel)",
   "language": "python",
   "name": "python3"
  },
  "language_info": {
   "codemirror_mode": {
    "name": "ipython",
    "version": 3
   },
   "file_extension": ".py",
   "mimetype": "text/x-python",
   "name": "python",
   "nbconvert_exporter": "python",
   "pygments_lexer": "ipython3",
   "version": "3.9.13"
  }
 },
 "nbformat": 4,
 "nbformat_minor": 5
}
